{
 "cells": [
  {
   "cell_type": "markdown",
   "metadata": {},
   "source": [
    "Lesson1 code"
   ]
  },
  {
   "cell_type": "code",
   "execution_count": 2,
   "metadata": {},
   "outputs": [],
   "source": [
    "simple_grammar = \"\"\"\n",
    "     sentence => noun_phrase verb_phrase\n",
    "     noun_phrase => Article Adj* noun\n",
    "     Adj* => null | Adj Adj*\n",
    "     verb_phrase => verb noun_phrase\n",
    "     Article => 一个 | 这个\n",
    "     noun => 女人 | 篮球 | 桌子 | 小猫\n",
    "     verb => 看着 | 听着 | 看见\n",
    "     Adj => 蓝色的 | 好看的 | 小小的 | 年轻的\n",
    " \"\"\""
   ]
  },
  {
   "cell_type": "code",
   "execution_count": 14,
   "metadata": {},
   "outputs": [
    {
     "name": "stdout",
     "output_type": "stream",
     "text": [
      "{'sentence': ['noun_phrase verb_phrase']}\n",
      "{'sentence': ['noun_phrase verb_phrase'], 'noun_phrase': ['Article Adj* noun']}\n",
      "{'sentence': ['noun_phrase verb_phrase'], 'Adj*': ['null', 'Adj Adj*'], 'noun_phrase': ['Article Adj* noun']}\n",
      "{'verb_phrase': ['verb noun_phrase'], 'sentence': ['noun_phrase verb_phrase'], 'Adj*': ['null', 'Adj Adj*'], 'noun_phrase': ['Article Adj* noun']}\n",
      "{'verb_phrase': ['verb noun_phrase'], 'sentence': ['noun_phrase verb_phrase'], 'Adj*': ['null', 'Adj Adj*'], 'noun_phrase': ['Article Adj* noun'], 'Article': ['一个', '这个']}\n",
      "{'noun': ['女人', '篮球', '桌子', '小猫'], 'sentence': ['noun_phrase verb_phrase'], 'noun_phrase': ['Article Adj* noun'], 'Article': ['一个', '这个'], 'verb_phrase': ['verb noun_phrase'], 'Adj*': ['null', 'Adj Adj*']}\n",
      "{'noun': ['女人', '篮球', '桌子', '小猫'], 'sentence': ['noun_phrase verb_phrase'], 'noun_phrase': ['Article Adj* noun'], 'Article': ['一个', '这个'], 'verb_phrase': ['verb noun_phrase'], 'verb': ['看着', '听着', '看见'], 'Adj*': ['null', 'Adj Adj*']}\n",
      "{'noun': ['女人', '篮球', '桌子', '小猫'], 'sentence': ['noun_phrase verb_phrase'], 'noun_phrase': ['Article Adj* noun'], 'Article': ['一个', '这个'], 'verb_phrase': ['verb noun_phrase'], 'Adj': ['蓝色的', '好看的', '小小的', '年轻的'], 'verb': ['看着', '听着', '看见'], 'Adj*': ['null', 'Adj Adj*']}\n"
     ]
    }
   ],
   "source": [
    "def generate(simple_grammar,key):\n",
    "    grammar_list = [i.strip() for i in simple_grammar.strip().split('\\n')]\n",
    "    grammer = {}\n",
    "    for i in grammar_list:\n",
    "        k,v = i.split('=>')\n",
    "        grammer[k.strip()]=[i.strip() for i in v.split('|')]\n",
    "        print(grammer)\n",
    "generate(simple_grammar,'')"
   ]
  },
  {
   "cell_type": "code",
   "execution_count": null,
   "metadata": {},
   "outputs": [],
   "source": []
  }
 ],
 "metadata": {
  "kernelspec": {
   "display_name": "Python 3",
   "language": "python",
   "name": "python3"
  },
  "language_info": {
   "codemirror_mode": {
    "name": "ipython",
    "version": 3
   },
   "file_extension": ".py",
   "mimetype": "text/x-python",
   "name": "python",
   "nbconvert_exporter": "python",
   "pygments_lexer": "ipython3",
   "version": "3.5.2"
  }
 },
 "nbformat": 4,
 "nbformat_minor": 2
}
