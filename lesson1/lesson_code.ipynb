{
 "cells": [
  {
   "cell_type": "markdown",
   "metadata": {},
   "source": [
    "Lesson1 code"
   ]
  },
  {
   "cell_type": "code",
   "execution_count": 2,
   "metadata": {},
   "outputs": [],
   "source": [
    "import random\n",
    "simple_grammar = \"\"\"\n",
    "     sentence => noun_phrase verb_phrase\n",
    "     noun_phrase => Article Adj* noun\n",
    "     Adj* => null | Adj Adj*\n",
    "     verb_phrase => verb noun_phrase\n",
    "     Article => 一个 | 这个\n",
    "     noun => 女人 | 篮球 | 桌子 | 小猫\n",
    "     verb => 看着 | 听着 | 看见\n",
    "     Adj => 蓝色的 | 好看的 | 小小的 | 年轻的\n",
    " \"\"\""
   ]
  },
  {
   "cell_type": "code",
   "execution_count": 32,
   "metadata": {},
   "outputs": [
    {
     "data": {
      "text/plain": [
       "{'Adj': [['蓝色的'], ['好看的'], ['小小的'], ['年轻的']],\n",
       " 'Adj*': [['null'], ['Adj', 'Adj*']],\n",
       " 'Article': [['一个'], ['这个']],\n",
       " 'noun': [['女人'], ['篮球'], ['桌子'], ['小猫']],\n",
       " 'noun_phrase': [['Article', 'Adj*', 'noun']],\n",
       " 'sentence': [['noun_phrase', 'verb_phrase']],\n",
       " 'verb': [['看着'], ['听着'], ['看见']],\n",
       " 'verb_phrase': [['verb', 'noun_phrase']]}"
      ]
     },
     "execution_count": 32,
     "metadata": {},
     "output_type": "execute_result"
    }
   ],
   "source": [
    "def extend(simple_grammar):\n",
    "    grammar_list = [i.strip() for i in simple_grammar.strip().split('\\n')]\n",
    "    grammer = {}\n",
    "    for i in grammar_list:\n",
    "        k,v = i.split('=>')\n",
    "        grammer[k.strip()]=[i.split() for i in v.split('|')]\n",
    "    return grammer\n",
    "extend(simple_grammar)"
   ]
  },
  {
   "cell_type": "code",
   "execution_count": 33,
   "metadata": {},
   "outputs": [
    {
     "data": {
      "text/plain": [
       "'这个  桌子 听着 这个  女人'"
      ]
     },
     "execution_count": 33,
     "metadata": {},
     "output_type": "execute_result"
    }
   ],
   "source": [
    "import random\n",
    "def generate(grammar,key):\n",
    "    if key not in grammar:\n",
    "        return key\n",
    "    result = random.choice(grammar[key])\n",
    "    result_list = [generate(grammar,t) for t in result]\n",
    "    return ' '.join([i for i in result_list if i != 'null'])\n",
    "\n",
    "generate(extend(simple_grammar),'sentence')\n",
    "        \n",
    "    "
   ]
  },
  {
   "cell_type": "code",
   "execution_count": null,
   "metadata": {},
   "outputs": [],
   "source": []
  }
 ],
 "metadata": {
  "kernelspec": {
   "display_name": "Python 3",
   "language": "python",
   "name": "python3"
  },
  "language_info": {
   "codemirror_mode": {
    "name": "ipython",
    "version": 3
   },
   "file_extension": ".py",
   "mimetype": "text/x-python",
   "name": "python",
   "nbconvert_exporter": "python",
   "pygments_lexer": "ipython3",
   "version": "3.5.2"
  }
 },
 "nbformat": 4,
 "nbformat_minor": 2
}
